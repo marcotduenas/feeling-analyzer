{
 "cells": [
  {
   "cell_type": "code",
   "execution_count": 1,
   "id": "68c6271e-4926-402b-a540-39303e5c54a7",
   "metadata": {},
   "outputs": [
    {
     "name": "stderr",
     "output_type": "stream",
     "text": [
      "/tmp/ipykernel_10337/2935666189.py:1: DeprecationWarning: \n",
      "Pyarrow will become a required dependency of pandas in the next major release of pandas (pandas 3.0),\n",
      "(to allow more performant data types, such as the Arrow string type, and better interoperability with other libraries)\n",
      "but was not found to be installed on your system.\n",
      "If this would cause problems for you,\n",
      "please provide us feedback at https://github.com/pandas-dev/pandas/issues/54466\n",
      "        \n",
      "  import pandas as pd\n",
      "2024-02-07 14:08:44.215246: I external/local_tsl/tsl/cuda/cudart_stub.cc:31] Could not find cuda drivers on your machine, GPU will not be used.\n",
      "2024-02-07 14:08:44.253210: E external/local_xla/xla/stream_executor/cuda/cuda_dnn.cc:9261] Unable to register cuDNN factory: Attempting to register factory for plugin cuDNN when one has already been registered\n",
      "2024-02-07 14:08:44.253253: E external/local_xla/xla/stream_executor/cuda/cuda_fft.cc:607] Unable to register cuFFT factory: Attempting to register factory for plugin cuFFT when one has already been registered\n",
      "2024-02-07 14:08:44.254640: E external/local_xla/xla/stream_executor/cuda/cuda_blas.cc:1515] Unable to register cuBLAS factory: Attempting to register factory for plugin cuBLAS when one has already been registered\n",
      "2024-02-07 14:08:44.260987: I external/local_tsl/tsl/cuda/cudart_stub.cc:31] Could not find cuda drivers on your machine, GPU will not be used.\n",
      "2024-02-07 14:08:44.262129: I tensorflow/core/platform/cpu_feature_guard.cc:182] This TensorFlow binary is optimized to use available CPU instructions in performance-critical operations.\n",
      "To enable the following instructions: AVX2 FMA, in other operations, rebuild TensorFlow with the appropriate compiler flags.\n",
      "2024-02-07 14:08:44.914757: W tensorflow/compiler/tf2tensorrt/utils/py_utils.cc:38] TF-TRT Warning: Could not find TensorRT\n",
      "/home/marco/.config/conda_envs/feelings/lib/python3.11/site-packages/tensorflow_addons/utils/tfa_eol_msg.py:23: UserWarning: \n",
      "\n",
      "TensorFlow Addons (TFA) has ended development and introduction of new features.\n",
      "TFA has entered a minimal maintenance and release mode until a planned end of life in May 2024.\n",
      "Please modify downstream libraries to take dependencies from other repositories in our TensorFlow community (e.g. Keras, Keras-CV, and Keras-NLP). \n",
      "\n",
      "For more information see: https://github.com/tensorflow/addons/issues/2807 \n",
      "\n",
      "  warnings.warn(\n"
     ]
    }
   ],
   "source": [
    "import pandas as pd\n",
    "import tensorflow as tf\n",
    "import keras\n",
    "import numpy as np\n",
    "from tensorflow.keras.callbacks import EarlyStopping, ReduceLROnPlateau\n",
    "from keras.layers import Dropout, Flatten, Dense\n",
    "from keras.metrics import *\n",
    "from keras.models import Sequential\n",
    "import tensorflow_addons as tfa\n",
    "from sklearn import datasets\n",
    "from sklearn.model_selection import train_test_split\n",
    "from sklearn.preprocessing import StandardScaler\n",
    "from sklearn.preprocessing import StandardScaler\n",
    "import matplotlib.pyplot as plt"
   ]
  },
  {
   "cell_type": "code",
   "execution_count": 2,
   "id": "62ec0aeb-8bc5-4032-a710-e0ee519b7b83",
   "metadata": {},
   "outputs": [],
   "source": [
    "model_metrics =[BinaryAccuracy(name = 'accuracy'),\n",
    "         TruePositives(thresholds = 0.5, name = 'tp'),\n",
    "         TrueNegatives(thresholds = 0.5, name = 'tn'),\n",
    "         FalsePositives(thresholds = 0.5, name = 'fp'),\n",
    "         FalseNegatives(thresholds = 0.5, name = 'fn'),\n",
    "         PrecisionAtRecall(recall = 0.5, name = 'precision'),\n",
    "         SensitivityAtSpecificity(0.5, name = 'sensitivity'),\n",
    "         SpecificityAtSensitivity(sensitivity = 0.5,\n",
    "                                  name = 'specificity'),\n",
    "         Recall(name='recall')]"
   ]
  },
  {
   "cell_type": "code",
   "execution_count": 3,
   "id": "d3eed47a-8b57-49a0-9045-795078b1b180",
   "metadata": {},
   "outputs": [],
   "source": [
    "data_sheet = pd.read_csv('../data/feelings.csv')\n",
    "data_sheet['rating'] = pd.to_numeric(data_sheet['rating'], errors = 'coerce')\n",
    "data_sheet['sentiment'] = pd.to_numeric(data_sheet['sentiment'], errors = 'coerce')\n",
    "\n",
    "X = data_sheet.drop(['sentiment'], axis = 1)\n",
    "\n",
    "data_sheet['sentiment'] = data_sheet['sentiment'].apply(lambda x: 1 if x == 1 else 0)\n",
    "Y = data_sheet['sentiment']"
   ]
  },
  {
   "cell_type": "code",
   "execution_count": 4,
   "id": "5135eae4-e62f-4fcb-8679-97d269418adc",
   "metadata": {},
   "outputs": [],
   "source": [
    "X_train, X_test, Y_train, Y_test = train_test_split(X, Y, test_size = 0.2, random_state = 42, stratify = Y)"
   ]
  },
  {
   "cell_type": "code",
   "execution_count": 5,
   "id": "9e48c48b-ee9f-4628-8261-73c90335b11d",
   "metadata": {},
   "outputs": [],
   "source": [
    "data_scaler = StandardScaler()\n",
    "\n",
    "X_train = data_scaler.fit_transform(X_train)\n",
    "X_test = data_scaler.fit_transform(X_test)\n",
    "\n",
    "X_train = np.asarray(X_train).astype(np.float32)\n",
    "Y_train = np.asarray(Y_train).astype(np.float32)\n",
    "\n"
   ]
  },
  {
   "cell_type": "code",
   "execution_count": 6,
   "id": "fcad3f46-ef51-497e-8a57-835feccc584a",
   "metadata": {},
   "outputs": [],
   "source": [
    "model = keras.Sequential([\n",
    "    keras.layers.Dense(64, activation='relu', input_shape=(X_train.shape[1],)),\n",
    "    keras.layers.Dense(32, activation='relu'),\n",
    "    keras.layers.Dense(1, activation='sigmoid') # Because it's a binary classification model\n",
    "])"
   ]
  },
  {
   "cell_type": "code",
   "execution_count": 7,
   "id": "e9f72731-e5e7-49e0-b967-4c1276934501",
   "metadata": {},
   "outputs": [],
   "source": [
    "model.compile(optimizer='adam', \n",
    "              loss='binary_crossentropy', \n",
    "              metrics=model_metrics)"
   ]
  },
  {
   "cell_type": "code",
   "execution_count": 8,
   "id": "8805c0fb-8d4d-470f-a0a5-bfafc60e5977",
   "metadata": {},
   "outputs": [],
   "source": [
    "learning_rate = ReduceLROnPlateau(monitor = 'accuracy',\n",
    "                                 factor = 0.2,\n",
    "                                 patience = 1,\n",
    "                                 min_lr = 0.000001,\n",
    "                                 verbose = 1)"
   ]
  },
  {
   "cell_type": "code",
   "execution_count": 9,
   "id": "1bf26913-c239-40b9-917e-1caba1b92c5c",
   "metadata": {},
   "outputs": [
    {
     "name": "stdout",
     "output_type": "stream",
     "text": [
      "Epoch 1/100\n",
      "13/13 [==============================] - 1s 30ms/step - loss: 0.6646 - accuracy: 0.7208 - tp: 158.0000 - tn: 126.0000 - fp: 71.0000 - fn: 39.0000 - precision: 0.8623 - sensitivity: 0.8426 - specificity: 0.9036 - recall: 0.8020 - val_loss: 0.5911 - val_accuracy: 1.0000 - val_tp: 49.0000 - val_tn: 50.0000 - val_fp: 0.0000e+00 - val_fn: 0.0000e+00 - val_precision: 1.0000 - val_sensitivity: 1.0000 - val_specificity: 1.0000 - val_recall: 1.0000 - lr: 0.0010\n",
      "Epoch 2/100\n",
      "13/13 [==============================] - 0s 5ms/step - loss: 0.5490 - accuracy: 0.9975 - tp: 197.0000 - tn: 196.0000 - fp: 1.0000 - fn: 0.0000e+00 - precision: 1.0000 - sensitivity: 1.0000 - specificity: 1.0000 - recall: 1.0000 - val_loss: 0.4957 - val_accuracy: 1.0000 - val_tp: 49.0000 - val_tn: 50.0000 - val_fp: 0.0000e+00 - val_fn: 0.0000e+00 - val_precision: 1.0000 - val_sensitivity: 1.0000 - val_specificity: 1.0000 - val_recall: 1.0000 - lr: 0.0010\n",
      "Epoch 3/100\n",
      " 1/13 [=>............................] - ETA: 0s - loss: 0.4875 - accuracy: 1.0000 - tp: 17.0000 - tn: 15.0000 - fp: 0.0000e+00 - fn: 0.0000e+00 - precision: 1.0000 - sensitivity: 1.0000 - specificity: 1.0000 - recall: 1.0000\n",
      "Epoch 3: ReduceLROnPlateau reducing learning rate to 0.00020000000949949026.\n",
      "13/13 [==============================] - 0s 5ms/step - loss: 0.4619 - accuracy: 0.9975 - tp: 197.0000 - tn: 196.0000 - fp: 1.0000 - fn: 0.0000e+00 - precision: 1.0000 - sensitivity: 1.0000 - specificity: 1.0000 - recall: 1.0000 - val_loss: 0.4104 - val_accuracy: 1.0000 - val_tp: 49.0000 - val_tn: 50.0000 - val_fp: 0.0000e+00 - val_fn: 0.0000e+00 - val_precision: 1.0000 - val_sensitivity: 1.0000 - val_specificity: 1.0000 - val_recall: 1.0000 - lr: 0.0010\n",
      "Epoch 4/100\n",
      " 1/13 [=>............................] - ETA: 0s - loss: 0.4190 - accuracy: 0.9688 - tp: 18.0000 - tn: 13.0000 - fp: 1.0000 - fn: 0.0000e+00 - precision: 1.0000 - sensitivity: 1.0000 - specificity: 1.0000 - recall: 1.0000\n",
      "Epoch 4: ReduceLROnPlateau reducing learning rate to 4.0000001899898055e-05.\n",
      "13/13 [==============================] - 0s 5ms/step - loss: 0.4069 - accuracy: 0.9975 - tp: 197.0000 - tn: 196.0000 - fp: 1.0000 - fn: 0.0000e+00 - precision: 1.0000 - sensitivity: 1.0000 - specificity: 1.0000 - recall: 1.0000 - val_loss: 0.3935 - val_accuracy: 1.0000 - val_tp: 49.0000 - val_tn: 50.0000 - val_fp: 0.0000e+00 - val_fn: 0.0000e+00 - val_precision: 1.0000 - val_sensitivity: 1.0000 - val_specificity: 1.0000 - val_recall: 1.0000 - lr: 2.0000e-04\n",
      "Epoch 5/100\n",
      " 1/13 [=>............................] - ETA: 0s - loss: 0.3954 - accuracy: 0.9688 - tp: 14.0000 - tn: 17.0000 - fp: 1.0000 - fn: 0.0000e+00 - precision: 1.0000 - sensitivity: 1.0000 - specificity: 1.0000 - recall: 1.0000\n",
      "Epoch 5: ReduceLROnPlateau reducing learning rate to 8.000000525498762e-06.\n",
      "13/13 [==============================] - 0s 5ms/step - loss: 0.3961 - accuracy: 0.9975 - tp: 197.0000 - tn: 196.0000 - fp: 1.0000 - fn: 0.0000e+00 - precision: 1.0000 - sensitivity: 1.0000 - specificity: 1.0000 - recall: 1.0000 - val_loss: 0.3901 - val_accuracy: 1.0000 - val_tp: 49.0000 - val_tn: 50.0000 - val_fp: 0.0000e+00 - val_fn: 0.0000e+00 - val_precision: 1.0000 - val_sensitivity: 1.0000 - val_specificity: 1.0000 - val_recall: 1.0000 - lr: 4.0000e-05\n",
      "Epoch 6/100\n",
      " 1/13 [=>............................] - ETA: 0s - loss: 0.3834 - accuracy: 1.0000 - tp: 19.0000 - tn: 13.0000 - fp: 0.0000e+00 - fn: 0.0000e+00 - precision: 1.0000 - sensitivity: 1.0000 - specificity: 1.0000 - recall: 1.0000\n",
      "Epoch 6: ReduceLROnPlateau reducing learning rate to 1.6000001778593287e-06.\n",
      "13/13 [==============================] - 0s 5ms/step - loss: 0.3939 - accuracy: 0.9975 - tp: 197.0000 - tn: 196.0000 - fp: 1.0000 - fn: 0.0000e+00 - precision: 1.0000 - sensitivity: 1.0000 - specificity: 1.0000 - recall: 1.0000 - val_loss: 0.3895 - val_accuracy: 1.0000 - val_tp: 49.0000 - val_tn: 50.0000 - val_fp: 0.0000e+00 - val_fn: 0.0000e+00 - val_precision: 1.0000 - val_sensitivity: 1.0000 - val_specificity: 1.0000 - val_recall: 1.0000 - lr: 8.0000e-06\n",
      "Epoch 7/100\n",
      " 1/13 [=>............................] - ETA: 0s - loss: 0.3972 - accuracy: 1.0000 - tp: 19.0000 - tn: 13.0000 - fp: 0.0000e+00 - fn: 0.0000e+00 - precision: 1.0000 - sensitivity: 1.0000 - specificity: 1.0000 - recall: 1.0000\n",
      "Epoch 7: ReduceLROnPlateau reducing learning rate to 1e-06.\n",
      "13/13 [==============================] - 0s 6ms/step - loss: 0.3935 - accuracy: 0.9975 - tp: 197.0000 - tn: 196.0000 - fp: 1.0000 - fn: 0.0000e+00 - precision: 1.0000 - sensitivity: 1.0000 - specificity: 1.0000 - recall: 1.0000 - val_loss: 0.3893 - val_accuracy: 1.0000 - val_tp: 49.0000 - val_tn: 50.0000 - val_fp: 0.0000e+00 - val_fn: 0.0000e+00 - val_precision: 1.0000 - val_sensitivity: 1.0000 - val_specificity: 1.0000 - val_recall: 1.0000 - lr: 1.6000e-06\n",
      "Epoch 8/100\n",
      "13/13 [==============================] - 0s 5ms/step - loss: 0.3934 - accuracy: 0.9975 - tp: 197.0000 - tn: 196.0000 - fp: 1.0000 - fn: 0.0000e+00 - precision: 1.0000 - sensitivity: 1.0000 - specificity: 1.0000 - recall: 1.0000 - val_loss: 0.3892 - val_accuracy: 1.0000 - val_tp: 49.0000 - val_tn: 50.0000 - val_fp: 0.0000e+00 - val_fn: 0.0000e+00 - val_precision: 1.0000 - val_sensitivity: 1.0000 - val_specificity: 1.0000 - val_recall: 1.0000 - lr: 1.0000e-06\n",
      "Epoch 9/100\n",
      "13/13 [==============================] - 0s 5ms/step - loss: 0.3933 - accuracy: 0.9975 - tp: 197.0000 - tn: 196.0000 - fp: 1.0000 - fn: 0.0000e+00 - precision: 1.0000 - sensitivity: 1.0000 - specificity: 1.0000 - recall: 1.0000 - val_loss: 0.3892 - val_accuracy: 1.0000 - val_tp: 49.0000 - val_tn: 50.0000 - val_fp: 0.0000e+00 - val_fn: 0.0000e+00 - val_precision: 1.0000 - val_sensitivity: 1.0000 - val_specificity: 1.0000 - val_recall: 1.0000 - lr: 1.0000e-06\n",
      "Epoch 10/100\n",
      "13/13 [==============================] - 0s 5ms/step - loss: 0.3932 - accuracy: 0.9975 - tp: 197.0000 - tn: 196.0000 - fp: 1.0000 - fn: 0.0000e+00 - precision: 1.0000 - sensitivity: 1.0000 - specificity: 1.0000 - recall: 1.0000 - val_loss: 0.3891 - val_accuracy: 1.0000 - val_tp: 49.0000 - val_tn: 50.0000 - val_fp: 0.0000e+00 - val_fn: 0.0000e+00 - val_precision: 1.0000 - val_sensitivity: 1.0000 - val_specificity: 1.0000 - val_recall: 1.0000 - lr: 1.0000e-06\n",
      "Epoch 11/100\n",
      "13/13 [==============================] - 0s 5ms/step - loss: 0.3932 - accuracy: 0.9975 - tp: 197.0000 - tn: 196.0000 - fp: 1.0000 - fn: 0.0000e+00 - precision: 1.0000 - sensitivity: 1.0000 - specificity: 1.0000 - recall: 1.0000 - val_loss: 0.3890 - val_accuracy: 1.0000 - val_tp: 49.0000 - val_tn: 50.0000 - val_fp: 0.0000e+00 - val_fn: 0.0000e+00 - val_precision: 1.0000 - val_sensitivity: 1.0000 - val_specificity: 1.0000 - val_recall: 1.0000 - lr: 1.0000e-06\n",
      "Epoch 12/100\n",
      "13/13 [==============================] - 0s 5ms/step - loss: 0.3931 - accuracy: 0.9975 - tp: 197.0000 - tn: 196.0000 - fp: 1.0000 - fn: 0.0000e+00 - precision: 1.0000 - sensitivity: 1.0000 - specificity: 1.0000 - recall: 1.0000 - val_loss: 0.3889 - val_accuracy: 1.0000 - val_tp: 49.0000 - val_tn: 50.0000 - val_fp: 0.0000e+00 - val_fn: 0.0000e+00 - val_precision: 1.0000 - val_sensitivity: 1.0000 - val_specificity: 1.0000 - val_recall: 1.0000 - lr: 1.0000e-06\n",
      "Epoch 13/100\n",
      "13/13 [==============================] - 0s 5ms/step - loss: 0.3930 - accuracy: 0.9975 - tp: 197.0000 - tn: 196.0000 - fp: 1.0000 - fn: 0.0000e+00 - precision: 1.0000 - sensitivity: 1.0000 - specificity: 1.0000 - recall: 1.0000 - val_loss: 0.3888 - val_accuracy: 1.0000 - val_tp: 49.0000 - val_tn: 50.0000 - val_fp: 0.0000e+00 - val_fn: 0.0000e+00 - val_precision: 1.0000 - val_sensitivity: 1.0000 - val_specificity: 1.0000 - val_recall: 1.0000 - lr: 1.0000e-06\n",
      "Epoch 14/100\n",
      "13/13 [==============================] - 0s 5ms/step - loss: 0.3929 - accuracy: 0.9975 - tp: 197.0000 - tn: 196.0000 - fp: 1.0000 - fn: 0.0000e+00 - precision: 1.0000 - sensitivity: 1.0000 - specificity: 1.0000 - recall: 1.0000 - val_loss: 0.3888 - val_accuracy: 1.0000 - val_tp: 49.0000 - val_tn: 50.0000 - val_fp: 0.0000e+00 - val_fn: 0.0000e+00 - val_precision: 1.0000 - val_sensitivity: 1.0000 - val_specificity: 1.0000 - val_recall: 1.0000 - lr: 1.0000e-06\n",
      "Epoch 15/100\n",
      "13/13 [==============================] - 0s 5ms/step - loss: 0.3928 - accuracy: 0.9975 - tp: 197.0000 - tn: 196.0000 - fp: 1.0000 - fn: 0.0000e+00 - precision: 1.0000 - sensitivity: 1.0000 - specificity: 1.0000 - recall: 1.0000 - val_loss: 0.3887 - val_accuracy: 1.0000 - val_tp: 49.0000 - val_tn: 50.0000 - val_fp: 0.0000e+00 - val_fn: 0.0000e+00 - val_precision: 1.0000 - val_sensitivity: 1.0000 - val_specificity: 1.0000 - val_recall: 1.0000 - lr: 1.0000e-06\n",
      "Epoch 16/100\n",
      "13/13 [==============================] - 0s 5ms/step - loss: 0.3927 - accuracy: 0.9975 - tp: 197.0000 - tn: 196.0000 - fp: 1.0000 - fn: 0.0000e+00 - precision: 1.0000 - sensitivity: 1.0000 - specificity: 1.0000 - recall: 1.0000 - val_loss: 0.3886 - val_accuracy: 1.0000 - val_tp: 49.0000 - val_tn: 50.0000 - val_fp: 0.0000e+00 - val_fn: 0.0000e+00 - val_precision: 1.0000 - val_sensitivity: 1.0000 - val_specificity: 1.0000 - val_recall: 1.0000 - lr: 1.0000e-06\n",
      "Epoch 17/100\n",
      "13/13 [==============================] - 0s 6ms/step - loss: 0.3927 - accuracy: 0.9975 - tp: 197.0000 - tn: 196.0000 - fp: 1.0000 - fn: 0.0000e+00 - precision: 1.0000 - sensitivity: 1.0000 - specificity: 1.0000 - recall: 1.0000 - val_loss: 0.3885 - val_accuracy: 1.0000 - val_tp: 49.0000 - val_tn: 50.0000 - val_fp: 0.0000e+00 - val_fn: 0.0000e+00 - val_precision: 1.0000 - val_sensitivity: 1.0000 - val_specificity: 1.0000 - val_recall: 1.0000 - lr: 1.0000e-06\n",
      "Epoch 18/100\n",
      "13/13 [==============================] - 0s 5ms/step - loss: 0.3926 - accuracy: 0.9975 - tp: 197.0000 - tn: 196.0000 - fp: 1.0000 - fn: 0.0000e+00 - precision: 1.0000 - sensitivity: 1.0000 - specificity: 1.0000 - recall: 1.0000 - val_loss: 0.3884 - val_accuracy: 1.0000 - val_tp: 49.0000 - val_tn: 50.0000 - val_fp: 0.0000e+00 - val_fn: 0.0000e+00 - val_precision: 1.0000 - val_sensitivity: 1.0000 - val_specificity: 1.0000 - val_recall: 1.0000 - lr: 1.0000e-06\n",
      "Epoch 19/100\n",
      "13/13 [==============================] - 0s 6ms/step - loss: 0.3925 - accuracy: 0.9975 - tp: 197.0000 - tn: 196.0000 - fp: 1.0000 - fn: 0.0000e+00 - precision: 1.0000 - sensitivity: 1.0000 - specificity: 1.0000 - recall: 1.0000 - val_loss: 0.3883 - val_accuracy: 1.0000 - val_tp: 49.0000 - val_tn: 50.0000 - val_fp: 0.0000e+00 - val_fn: 0.0000e+00 - val_precision: 1.0000 - val_sensitivity: 1.0000 - val_specificity: 1.0000 - val_recall: 1.0000 - lr: 1.0000e-06\n",
      "Epoch 20/100\n",
      "13/13 [==============================] - 0s 5ms/step - loss: 0.3924 - accuracy: 0.9975 - tp: 197.0000 - tn: 196.0000 - fp: 1.0000 - fn: 0.0000e+00 - precision: 1.0000 - sensitivity: 1.0000 - specificity: 1.0000 - recall: 1.0000 - val_loss: 0.3882 - val_accuracy: 1.0000 - val_tp: 49.0000 - val_tn: 50.0000 - val_fp: 0.0000e+00 - val_fn: 0.0000e+00 - val_precision: 1.0000 - val_sensitivity: 1.0000 - val_specificity: 1.0000 - val_recall: 1.0000 - lr: 1.0000e-06\n",
      "Epoch 21/100\n",
      "13/13 [==============================] - 0s 5ms/step - loss: 0.3923 - accuracy: 0.9975 - tp: 197.0000 - tn: 196.0000 - fp: 1.0000 - fn: 0.0000e+00 - precision: 1.0000 - sensitivity: 1.0000 - specificity: 1.0000 - recall: 1.0000 - val_loss: 0.3882 - val_accuracy: 1.0000 - val_tp: 49.0000 - val_tn: 50.0000 - val_fp: 0.0000e+00 - val_fn: 0.0000e+00 - val_precision: 1.0000 - val_sensitivity: 1.0000 - val_specificity: 1.0000 - val_recall: 1.0000 - lr: 1.0000e-06\n",
      "Epoch 22/100\n",
      "13/13 [==============================] - 0s 5ms/step - loss: 0.3922 - accuracy: 0.9975 - tp: 197.0000 - tn: 196.0000 - fp: 1.0000 - fn: 0.0000e+00 - precision: 1.0000 - sensitivity: 1.0000 - specificity: 1.0000 - recall: 1.0000 - val_loss: 0.3881 - val_accuracy: 1.0000 - val_tp: 49.0000 - val_tn: 50.0000 - val_fp: 0.0000e+00 - val_fn: 0.0000e+00 - val_precision: 1.0000 - val_sensitivity: 1.0000 - val_specificity: 1.0000 - val_recall: 1.0000 - lr: 1.0000e-06\n",
      "Epoch 23/100\n",
      "13/13 [==============================] - 0s 5ms/step - loss: 0.3922 - accuracy: 0.9975 - tp: 197.0000 - tn: 196.0000 - fp: 1.0000 - fn: 0.0000e+00 - precision: 1.0000 - sensitivity: 1.0000 - specificity: 1.0000 - recall: 1.0000 - val_loss: 0.3880 - val_accuracy: 1.0000 - val_tp: 49.0000 - val_tn: 50.0000 - val_fp: 0.0000e+00 - val_fn: 0.0000e+00 - val_precision: 1.0000 - val_sensitivity: 1.0000 - val_specificity: 1.0000 - val_recall: 1.0000 - lr: 1.0000e-06\n",
      "Epoch 24/100\n",
      "13/13 [==============================] - 0s 5ms/step - loss: 0.3921 - accuracy: 0.9975 - tp: 197.0000 - tn: 196.0000 - fp: 1.0000 - fn: 0.0000e+00 - precision: 1.0000 - sensitivity: 1.0000 - specificity: 1.0000 - recall: 1.0000 - val_loss: 0.3879 - val_accuracy: 1.0000 - val_tp: 49.0000 - val_tn: 50.0000 - val_fp: 0.0000e+00 - val_fn: 0.0000e+00 - val_precision: 1.0000 - val_sensitivity: 1.0000 - val_specificity: 1.0000 - val_recall: 1.0000 - lr: 1.0000e-06\n",
      "Epoch 25/100\n",
      "13/13 [==============================] - 0s 5ms/step - loss: 0.3920 - accuracy: 0.9975 - tp: 197.0000 - tn: 196.0000 - fp: 1.0000 - fn: 0.0000e+00 - precision: 1.0000 - sensitivity: 1.0000 - specificity: 1.0000 - recall: 1.0000 - val_loss: 0.3878 - val_accuracy: 1.0000 - val_tp: 49.0000 - val_tn: 50.0000 - val_fp: 0.0000e+00 - val_fn: 0.0000e+00 - val_precision: 1.0000 - val_sensitivity: 1.0000 - val_specificity: 1.0000 - val_recall: 1.0000 - lr: 1.0000e-06\n",
      "Epoch 26/100\n",
      "13/13 [==============================] - 0s 5ms/step - loss: 0.3919 - accuracy: 0.9975 - tp: 197.0000 - tn: 196.0000 - fp: 1.0000 - fn: 0.0000e+00 - precision: 1.0000 - sensitivity: 1.0000 - specificity: 1.0000 - recall: 1.0000 - val_loss: 0.3877 - val_accuracy: 1.0000 - val_tp: 49.0000 - val_tn: 50.0000 - val_fp: 0.0000e+00 - val_fn: 0.0000e+00 - val_precision: 1.0000 - val_sensitivity: 1.0000 - val_specificity: 1.0000 - val_recall: 1.0000 - lr: 1.0000e-06\n",
      "Epoch 27/100\n",
      "13/13 [==============================] - 0s 5ms/step - loss: 0.3918 - accuracy: 0.9975 - tp: 197.0000 - tn: 196.0000 - fp: 1.0000 - fn: 0.0000e+00 - precision: 1.0000 - sensitivity: 1.0000 - specificity: 1.0000 - recall: 1.0000 - val_loss: 0.3877 - val_accuracy: 1.0000 - val_tp: 49.0000 - val_tn: 50.0000 - val_fp: 0.0000e+00 - val_fn: 0.0000e+00 - val_precision: 1.0000 - val_sensitivity: 1.0000 - val_specificity: 1.0000 - val_recall: 1.0000 - lr: 1.0000e-06\n",
      "Epoch 28/100\n",
      "13/13 [==============================] - 0s 5ms/step - loss: 0.3917 - accuracy: 0.9975 - tp: 197.0000 - tn: 196.0000 - fp: 1.0000 - fn: 0.0000e+00 - precision: 1.0000 - sensitivity: 1.0000 - specificity: 1.0000 - recall: 1.0000 - val_loss: 0.3876 - val_accuracy: 1.0000 - val_tp: 49.0000 - val_tn: 50.0000 - val_fp: 0.0000e+00 - val_fn: 0.0000e+00 - val_precision: 1.0000 - val_sensitivity: 1.0000 - val_specificity: 1.0000 - val_recall: 1.0000 - lr: 1.0000e-06\n",
      "Epoch 29/100\n",
      "13/13 [==============================] - 0s 5ms/step - loss: 0.3917 - accuracy: 0.9975 - tp: 197.0000 - tn: 196.0000 - fp: 1.0000 - fn: 0.0000e+00 - precision: 1.0000 - sensitivity: 1.0000 - specificity: 1.0000 - recall: 1.0000 - val_loss: 0.3875 - val_accuracy: 1.0000 - val_tp: 49.0000 - val_tn: 50.0000 - val_fp: 0.0000e+00 - val_fn: 0.0000e+00 - val_precision: 1.0000 - val_sensitivity: 1.0000 - val_specificity: 1.0000 - val_recall: 1.0000 - lr: 1.0000e-06\n",
      "Epoch 30/100\n",
      "13/13 [==============================] - 0s 5ms/step - loss: 0.3916 - accuracy: 0.9975 - tp: 197.0000 - tn: 196.0000 - fp: 1.0000 - fn: 0.0000e+00 - precision: 1.0000 - sensitivity: 1.0000 - specificity: 1.0000 - recall: 1.0000 - val_loss: 0.3874 - val_accuracy: 1.0000 - val_tp: 49.0000 - val_tn: 50.0000 - val_fp: 0.0000e+00 - val_fn: 0.0000e+00 - val_precision: 1.0000 - val_sensitivity: 1.0000 - val_specificity: 1.0000 - val_recall: 1.0000 - lr: 1.0000e-06\n",
      "Epoch 31/100\n",
      "13/13 [==============================] - 0s 5ms/step - loss: 0.3915 - accuracy: 0.9975 - tp: 197.0000 - tn: 196.0000 - fp: 1.0000 - fn: 0.0000e+00 - precision: 1.0000 - sensitivity: 1.0000 - specificity: 1.0000 - recall: 1.0000 - val_loss: 0.3873 - val_accuracy: 1.0000 - val_tp: 49.0000 - val_tn: 50.0000 - val_fp: 0.0000e+00 - val_fn: 0.0000e+00 - val_precision: 1.0000 - val_sensitivity: 1.0000 - val_specificity: 1.0000 - val_recall: 1.0000 - lr: 1.0000e-06\n",
      "Epoch 32/100\n",
      "13/13 [==============================] - 0s 6ms/step - loss: 0.3914 - accuracy: 0.9975 - tp: 197.0000 - tn: 196.0000 - fp: 1.0000 - fn: 0.0000e+00 - precision: 1.0000 - sensitivity: 1.0000 - specificity: 1.0000 - recall: 1.0000 - val_loss: 0.3872 - val_accuracy: 1.0000 - val_tp: 49.0000 - val_tn: 50.0000 - val_fp: 0.0000e+00 - val_fn: 0.0000e+00 - val_precision: 1.0000 - val_sensitivity: 1.0000 - val_specificity: 1.0000 - val_recall: 1.0000 - lr: 1.0000e-06\n",
      "Epoch 33/100\n",
      "13/13 [==============================] - 0s 5ms/step - loss: 0.3913 - accuracy: 0.9975 - tp: 197.0000 - tn: 196.0000 - fp: 1.0000 - fn: 0.0000e+00 - precision: 1.0000 - sensitivity: 1.0000 - specificity: 1.0000 - recall: 1.0000 - val_loss: 0.3872 - val_accuracy: 1.0000 - val_tp: 49.0000 - val_tn: 50.0000 - val_fp: 0.0000e+00 - val_fn: 0.0000e+00 - val_precision: 1.0000 - val_sensitivity: 1.0000 - val_specificity: 1.0000 - val_recall: 1.0000 - lr: 1.0000e-06\n",
      "Epoch 34/100\n",
      "13/13 [==============================] - 0s 6ms/step - loss: 0.3912 - accuracy: 0.9975 - tp: 197.0000 - tn: 196.0000 - fp: 1.0000 - fn: 0.0000e+00 - precision: 1.0000 - sensitivity: 1.0000 - specificity: 1.0000 - recall: 1.0000 - val_loss: 0.3871 - val_accuracy: 1.0000 - val_tp: 49.0000 - val_tn: 50.0000 - val_fp: 0.0000e+00 - val_fn: 0.0000e+00 - val_precision: 1.0000 - val_sensitivity: 1.0000 - val_specificity: 1.0000 - val_recall: 1.0000 - lr: 1.0000e-06\n",
      "Epoch 35/100\n",
      "13/13 [==============================] - 0s 5ms/step - loss: 0.3911 - accuracy: 0.9975 - tp: 197.0000 - tn: 196.0000 - fp: 1.0000 - fn: 0.0000e+00 - precision: 1.0000 - sensitivity: 1.0000 - specificity: 1.0000 - recall: 1.0000 - val_loss: 0.3870 - val_accuracy: 1.0000 - val_tp: 49.0000 - val_tn: 50.0000 - val_fp: 0.0000e+00 - val_fn: 0.0000e+00 - val_precision: 1.0000 - val_sensitivity: 1.0000 - val_specificity: 1.0000 - val_recall: 1.0000 - lr: 1.0000e-06\n",
      "Epoch 36/100\n",
      "13/13 [==============================] - 0s 5ms/step - loss: 0.3911 - accuracy: 0.9975 - tp: 197.0000 - tn: 196.0000 - fp: 1.0000 - fn: 0.0000e+00 - precision: 1.0000 - sensitivity: 1.0000 - specificity: 1.0000 - recall: 1.0000 - val_loss: 0.3869 - val_accuracy: 1.0000 - val_tp: 49.0000 - val_tn: 50.0000 - val_fp: 0.0000e+00 - val_fn: 0.0000e+00 - val_precision: 1.0000 - val_sensitivity: 1.0000 - val_specificity: 1.0000 - val_recall: 1.0000 - lr: 1.0000e-06\n",
      "Epoch 37/100\n",
      "13/13 [==============================] - 0s 5ms/step - loss: 0.3910 - accuracy: 0.9975 - tp: 197.0000 - tn: 196.0000 - fp: 1.0000 - fn: 0.0000e+00 - precision: 1.0000 - sensitivity: 1.0000 - specificity: 1.0000 - recall: 1.0000 - val_loss: 0.3868 - val_accuracy: 1.0000 - val_tp: 49.0000 - val_tn: 50.0000 - val_fp: 0.0000e+00 - val_fn: 0.0000e+00 - val_precision: 1.0000 - val_sensitivity: 1.0000 - val_specificity: 1.0000 - val_recall: 1.0000 - lr: 1.0000e-06\n",
      "Epoch 38/100\n",
      "13/13 [==============================] - 0s 5ms/step - loss: 0.3909 - accuracy: 0.9975 - tp: 197.0000 - tn: 196.0000 - fp: 1.0000 - fn: 0.0000e+00 - precision: 1.0000 - sensitivity: 1.0000 - specificity: 1.0000 - recall: 1.0000 - val_loss: 0.3867 - val_accuracy: 1.0000 - val_tp: 49.0000 - val_tn: 50.0000 - val_fp: 0.0000e+00 - val_fn: 0.0000e+00 - val_precision: 1.0000 - val_sensitivity: 1.0000 - val_specificity: 1.0000 - val_recall: 1.0000 - lr: 1.0000e-06\n",
      "Epoch 39/100\n",
      "13/13 [==============================] - 0s 5ms/step - loss: 0.3908 - accuracy: 0.9975 - tp: 197.0000 - tn: 196.0000 - fp: 1.0000 - fn: 0.0000e+00 - precision: 1.0000 - sensitivity: 1.0000 - specificity: 1.0000 - recall: 1.0000 - val_loss: 0.3866 - val_accuracy: 1.0000 - val_tp: 49.0000 - val_tn: 50.0000 - val_fp: 0.0000e+00 - val_fn: 0.0000e+00 - val_precision: 1.0000 - val_sensitivity: 1.0000 - val_specificity: 1.0000 - val_recall: 1.0000 - lr: 1.0000e-06\n",
      "Epoch 40/100\n",
      "13/13 [==============================] - 0s 6ms/step - loss: 0.3907 - accuracy: 0.9975 - tp: 197.0000 - tn: 196.0000 - fp: 1.0000 - fn: 0.0000e+00 - precision: 1.0000 - sensitivity: 1.0000 - specificity: 1.0000 - recall: 1.0000 - val_loss: 0.3866 - val_accuracy: 1.0000 - val_tp: 49.0000 - val_tn: 50.0000 - val_fp: 0.0000e+00 - val_fn: 0.0000e+00 - val_precision: 1.0000 - val_sensitivity: 1.0000 - val_specificity: 1.0000 - val_recall: 1.0000 - lr: 1.0000e-06\n",
      "Epoch 41/100\n",
      "13/13 [==============================] - 0s 5ms/step - loss: 0.3906 - accuracy: 0.9975 - tp: 197.0000 - tn: 196.0000 - fp: 1.0000 - fn: 0.0000e+00 - precision: 1.0000 - sensitivity: 1.0000 - specificity: 1.0000 - recall: 1.0000 - val_loss: 0.3865 - val_accuracy: 1.0000 - val_tp: 49.0000 - val_tn: 50.0000 - val_fp: 0.0000e+00 - val_fn: 0.0000e+00 - val_precision: 1.0000 - val_sensitivity: 1.0000 - val_specificity: 1.0000 - val_recall: 1.0000 - lr: 1.0000e-06\n",
      "Epoch 42/100\n",
      "13/13 [==============================] - 0s 5ms/step - loss: 0.3906 - accuracy: 0.9975 - tp: 197.0000 - tn: 196.0000 - fp: 1.0000 - fn: 0.0000e+00 - precision: 1.0000 - sensitivity: 1.0000 - specificity: 1.0000 - recall: 1.0000 - val_loss: 0.3864 - val_accuracy: 1.0000 - val_tp: 49.0000 - val_tn: 50.0000 - val_fp: 0.0000e+00 - val_fn: 0.0000e+00 - val_precision: 1.0000 - val_sensitivity: 1.0000 - val_specificity: 1.0000 - val_recall: 1.0000 - lr: 1.0000e-06\n",
      "Epoch 43/100\n",
      "13/13 [==============================] - 0s 5ms/step - loss: 0.3905 - accuracy: 0.9975 - tp: 197.0000 - tn: 196.0000 - fp: 1.0000 - fn: 0.0000e+00 - precision: 1.0000 - sensitivity: 1.0000 - specificity: 1.0000 - recall: 1.0000 - val_loss: 0.3863 - val_accuracy: 1.0000 - val_tp: 49.0000 - val_tn: 50.0000 - val_fp: 0.0000e+00 - val_fn: 0.0000e+00 - val_precision: 1.0000 - val_sensitivity: 1.0000 - val_specificity: 1.0000 - val_recall: 1.0000 - lr: 1.0000e-06\n",
      "Epoch 44/100\n",
      "13/13 [==============================] - 0s 5ms/step - loss: 0.3904 - accuracy: 0.9975 - tp: 197.0000 - tn: 196.0000 - fp: 1.0000 - fn: 0.0000e+00 - precision: 1.0000 - sensitivity: 1.0000 - specificity: 1.0000 - recall: 1.0000 - val_loss: 0.3862 - val_accuracy: 1.0000 - val_tp: 49.0000 - val_tn: 50.0000 - val_fp: 0.0000e+00 - val_fn: 0.0000e+00 - val_precision: 1.0000 - val_sensitivity: 1.0000 - val_specificity: 1.0000 - val_recall: 1.0000 - lr: 1.0000e-06\n",
      "Epoch 45/100\n",
      "13/13 [==============================] - 0s 5ms/step - loss: 0.3903 - accuracy: 0.9975 - tp: 197.0000 - tn: 196.0000 - fp: 1.0000 - fn: 0.0000e+00 - precision: 1.0000 - sensitivity: 1.0000 - specificity: 1.0000 - recall: 1.0000 - val_loss: 0.3861 - val_accuracy: 1.0000 - val_tp: 49.0000 - val_tn: 50.0000 - val_fp: 0.0000e+00 - val_fn: 0.0000e+00 - val_precision: 1.0000 - val_sensitivity: 1.0000 - val_specificity: 1.0000 - val_recall: 1.0000 - lr: 1.0000e-06\n",
      "Epoch 46/100\n",
      "13/13 [==============================] - 0s 5ms/step - loss: 0.3902 - accuracy: 0.9975 - tp: 197.0000 - tn: 196.0000 - fp: 1.0000 - fn: 0.0000e+00 - precision: 1.0000 - sensitivity: 1.0000 - specificity: 1.0000 - recall: 1.0000 - val_loss: 0.3861 - val_accuracy: 1.0000 - val_tp: 49.0000 - val_tn: 50.0000 - val_fp: 0.0000e+00 - val_fn: 0.0000e+00 - val_precision: 1.0000 - val_sensitivity: 1.0000 - val_specificity: 1.0000 - val_recall: 1.0000 - lr: 1.0000e-06\n",
      "Epoch 47/100\n",
      "13/13 [==============================] - 0s 6ms/step - loss: 0.3901 - accuracy: 0.9975 - tp: 197.0000 - tn: 196.0000 - fp: 1.0000 - fn: 0.0000e+00 - precision: 1.0000 - sensitivity: 1.0000 - specificity: 1.0000 - recall: 1.0000 - val_loss: 0.3860 - val_accuracy: 1.0000 - val_tp: 49.0000 - val_tn: 50.0000 - val_fp: 0.0000e+00 - val_fn: 0.0000e+00 - val_precision: 1.0000 - val_sensitivity: 1.0000 - val_specificity: 1.0000 - val_recall: 1.0000 - lr: 1.0000e-06\n",
      "Epoch 48/100\n",
      "13/13 [==============================] - 0s 6ms/step - loss: 0.3901 - accuracy: 0.9975 - tp: 197.0000 - tn: 196.0000 - fp: 1.0000 - fn: 0.0000e+00 - precision: 1.0000 - sensitivity: 1.0000 - specificity: 1.0000 - recall: 1.0000 - val_loss: 0.3859 - val_accuracy: 1.0000 - val_tp: 49.0000 - val_tn: 50.0000 - val_fp: 0.0000e+00 - val_fn: 0.0000e+00 - val_precision: 1.0000 - val_sensitivity: 1.0000 - val_specificity: 1.0000 - val_recall: 1.0000 - lr: 1.0000e-06\n",
      "Epoch 49/100\n",
      "13/13 [==============================] - 0s 5ms/step - loss: 0.3900 - accuracy: 0.9975 - tp: 197.0000 - tn: 196.0000 - fp: 1.0000 - fn: 0.0000e+00 - precision: 1.0000 - sensitivity: 1.0000 - specificity: 1.0000 - recall: 1.0000 - val_loss: 0.3858 - val_accuracy: 1.0000 - val_tp: 49.0000 - val_tn: 50.0000 - val_fp: 0.0000e+00 - val_fn: 0.0000e+00 - val_precision: 1.0000 - val_sensitivity: 1.0000 - val_specificity: 1.0000 - val_recall: 1.0000 - lr: 1.0000e-06\n",
      "Epoch 50/100\n",
      "13/13 [==============================] - 0s 5ms/step - loss: 0.3899 - accuracy: 0.9975 - tp: 197.0000 - tn: 196.0000 - fp: 1.0000 - fn: 0.0000e+00 - precision: 1.0000 - sensitivity: 1.0000 - specificity: 1.0000 - recall: 1.0000 - val_loss: 0.3857 - val_accuracy: 1.0000 - val_tp: 49.0000 - val_tn: 50.0000 - val_fp: 0.0000e+00 - val_fn: 0.0000e+00 - val_precision: 1.0000 - val_sensitivity: 1.0000 - val_specificity: 1.0000 - val_recall: 1.0000 - lr: 1.0000e-06\n",
      "Epoch 51/100\n",
      "13/13 [==============================] - 0s 5ms/step - loss: 0.3898 - accuracy: 0.9975 - tp: 197.0000 - tn: 196.0000 - fp: 1.0000 - fn: 0.0000e+00 - precision: 1.0000 - sensitivity: 1.0000 - specificity: 1.0000 - recall: 1.0000 - val_loss: 0.3856 - val_accuracy: 1.0000 - val_tp: 49.0000 - val_tn: 50.0000 - val_fp: 0.0000e+00 - val_fn: 0.0000e+00 - val_precision: 1.0000 - val_sensitivity: 1.0000 - val_specificity: 1.0000 - val_recall: 1.0000 - lr: 1.0000e-06\n",
      "Epoch 52/100\n",
      "13/13 [==============================] - 0s 6ms/step - loss: 0.3897 - accuracy: 0.9975 - tp: 197.0000 - tn: 196.0000 - fp: 1.0000 - fn: 0.0000e+00 - precision: 1.0000 - sensitivity: 1.0000 - specificity: 1.0000 - recall: 1.0000 - val_loss: 0.3855 - val_accuracy: 1.0000 - val_tp: 49.0000 - val_tn: 50.0000 - val_fp: 0.0000e+00 - val_fn: 0.0000e+00 - val_precision: 1.0000 - val_sensitivity: 1.0000 - val_specificity: 1.0000 - val_recall: 1.0000 - lr: 1.0000e-06\n",
      "Epoch 53/100\n",
      "13/13 [==============================] - 0s 6ms/step - loss: 0.3896 - accuracy: 0.9975 - tp: 197.0000 - tn: 196.0000 - fp: 1.0000 - fn: 0.0000e+00 - precision: 1.0000 - sensitivity: 1.0000 - specificity: 1.0000 - recall: 1.0000 - val_loss: 0.3855 - val_accuracy: 1.0000 - val_tp: 49.0000 - val_tn: 50.0000 - val_fp: 0.0000e+00 - val_fn: 0.0000e+00 - val_precision: 1.0000 - val_sensitivity: 1.0000 - val_specificity: 1.0000 - val_recall: 1.0000 - lr: 1.0000e-06\n",
      "Epoch 54/100\n",
      "13/13 [==============================] - 0s 6ms/step - loss: 0.3896 - accuracy: 0.9975 - tp: 197.0000 - tn: 196.0000 - fp: 1.0000 - fn: 0.0000e+00 - precision: 1.0000 - sensitivity: 1.0000 - specificity: 1.0000 - recall: 1.0000 - val_loss: 0.3854 - val_accuracy: 1.0000 - val_tp: 49.0000 - val_tn: 50.0000 - val_fp: 0.0000e+00 - val_fn: 0.0000e+00 - val_precision: 1.0000 - val_sensitivity: 1.0000 - val_specificity: 1.0000 - val_recall: 1.0000 - lr: 1.0000e-06\n",
      "Epoch 55/100\n",
      "13/13 [==============================] - 0s 5ms/step - loss: 0.3895 - accuracy: 0.9975 - tp: 197.0000 - tn: 196.0000 - fp: 1.0000 - fn: 0.0000e+00 - precision: 1.0000 - sensitivity: 1.0000 - specificity: 1.0000 - recall: 1.0000 - val_loss: 0.3853 - val_accuracy: 1.0000 - val_tp: 49.0000 - val_tn: 50.0000 - val_fp: 0.0000e+00 - val_fn: 0.0000e+00 - val_precision: 1.0000 - val_sensitivity: 1.0000 - val_specificity: 1.0000 - val_recall: 1.0000 - lr: 1.0000e-06\n",
      "Epoch 56/100\n",
      "13/13 [==============================] - 0s 5ms/step - loss: 0.3894 - accuracy: 0.9975 - tp: 197.0000 - tn: 196.0000 - fp: 1.0000 - fn: 0.0000e+00 - precision: 1.0000 - sensitivity: 1.0000 - specificity: 1.0000 - recall: 1.0000 - val_loss: 0.3852 - val_accuracy: 1.0000 - val_tp: 49.0000 - val_tn: 50.0000 - val_fp: 0.0000e+00 - val_fn: 0.0000e+00 - val_precision: 1.0000 - val_sensitivity: 1.0000 - val_specificity: 1.0000 - val_recall: 1.0000 - lr: 1.0000e-06\n",
      "Epoch 57/100\n",
      "13/13 [==============================] - 0s 5ms/step - loss: 0.3893 - accuracy: 0.9975 - tp: 197.0000 - tn: 196.0000 - fp: 1.0000 - fn: 0.0000e+00 - precision: 1.0000 - sensitivity: 1.0000 - specificity: 1.0000 - recall: 1.0000 - val_loss: 0.3851 - val_accuracy: 1.0000 - val_tp: 49.0000 - val_tn: 50.0000 - val_fp: 0.0000e+00 - val_fn: 0.0000e+00 - val_precision: 1.0000 - val_sensitivity: 1.0000 - val_specificity: 1.0000 - val_recall: 1.0000 - lr: 1.0000e-06\n",
      "Epoch 58/100\n",
      "13/13 [==============================] - 0s 5ms/step - loss: 0.3892 - accuracy: 0.9975 - tp: 197.0000 - tn: 196.0000 - fp: 1.0000 - fn: 0.0000e+00 - precision: 1.0000 - sensitivity: 1.0000 - specificity: 1.0000 - recall: 1.0000 - val_loss: 0.3850 - val_accuracy: 1.0000 - val_tp: 49.0000 - val_tn: 50.0000 - val_fp: 0.0000e+00 - val_fn: 0.0000e+00 - val_precision: 1.0000 - val_sensitivity: 1.0000 - val_specificity: 1.0000 - val_recall: 1.0000 - lr: 1.0000e-06\n",
      "Epoch 59/100\n",
      "13/13 [==============================] - 0s 6ms/step - loss: 0.3891 - accuracy: 0.9975 - tp: 197.0000 - tn: 196.0000 - fp: 1.0000 - fn: 0.0000e+00 - precision: 1.0000 - sensitivity: 1.0000 - specificity: 1.0000 - recall: 1.0000 - val_loss: 0.3850 - val_accuracy: 1.0000 - val_tp: 49.0000 - val_tn: 50.0000 - val_fp: 0.0000e+00 - val_fn: 0.0000e+00 - val_precision: 1.0000 - val_sensitivity: 1.0000 - val_specificity: 1.0000 - val_recall: 1.0000 - lr: 1.0000e-06\n",
      "Epoch 60/100\n",
      "13/13 [==============================] - 0s 6ms/step - loss: 0.3891 - accuracy: 0.9975 - tp: 197.0000 - tn: 196.0000 - fp: 1.0000 - fn: 0.0000e+00 - precision: 1.0000 - sensitivity: 1.0000 - specificity: 1.0000 - recall: 1.0000 - val_loss: 0.3849 - val_accuracy: 1.0000 - val_tp: 49.0000 - val_tn: 50.0000 - val_fp: 0.0000e+00 - val_fn: 0.0000e+00 - val_precision: 1.0000 - val_sensitivity: 1.0000 - val_specificity: 1.0000 - val_recall: 1.0000 - lr: 1.0000e-06\n",
      "Epoch 61/100\n",
      "13/13 [==============================] - 0s 6ms/step - loss: 0.3890 - accuracy: 0.9975 - tp: 197.0000 - tn: 196.0000 - fp: 1.0000 - fn: 0.0000e+00 - precision: 1.0000 - sensitivity: 1.0000 - specificity: 1.0000 - recall: 1.0000 - val_loss: 0.3848 - val_accuracy: 1.0000 - val_tp: 49.0000 - val_tn: 50.0000 - val_fp: 0.0000e+00 - val_fn: 0.0000e+00 - val_precision: 1.0000 - val_sensitivity: 1.0000 - val_specificity: 1.0000 - val_recall: 1.0000 - lr: 1.0000e-06\n",
      "Epoch 62/100\n",
      "13/13 [==============================] - 0s 6ms/step - loss: 0.3889 - accuracy: 0.9975 - tp: 197.0000 - tn: 196.0000 - fp: 1.0000 - fn: 0.0000e+00 - precision: 1.0000 - sensitivity: 1.0000 - specificity: 1.0000 - recall: 1.0000 - val_loss: 0.3847 - val_accuracy: 1.0000 - val_tp: 49.0000 - val_tn: 50.0000 - val_fp: 0.0000e+00 - val_fn: 0.0000e+00 - val_precision: 1.0000 - val_sensitivity: 1.0000 - val_specificity: 1.0000 - val_recall: 1.0000 - lr: 1.0000e-06\n",
      "Epoch 63/100\n",
      "13/13 [==============================] - 0s 6ms/step - loss: 0.3888 - accuracy: 0.9975 - tp: 197.0000 - tn: 196.0000 - fp: 1.0000 - fn: 0.0000e+00 - precision: 1.0000 - sensitivity: 1.0000 - specificity: 1.0000 - recall: 1.0000 - val_loss: 0.3846 - val_accuracy: 1.0000 - val_tp: 49.0000 - val_tn: 50.0000 - val_fp: 0.0000e+00 - val_fn: 0.0000e+00 - val_precision: 1.0000 - val_sensitivity: 1.0000 - val_specificity: 1.0000 - val_recall: 1.0000 - lr: 1.0000e-06\n",
      "Epoch 64/100\n",
      "13/13 [==============================] - 0s 5ms/step - loss: 0.3887 - accuracy: 0.9975 - tp: 197.0000 - tn: 196.0000 - fp: 1.0000 - fn: 0.0000e+00 - precision: 1.0000 - sensitivity: 1.0000 - specificity: 1.0000 - recall: 1.0000 - val_loss: 0.3845 - val_accuracy: 1.0000 - val_tp: 49.0000 - val_tn: 50.0000 - val_fp: 0.0000e+00 - val_fn: 0.0000e+00 - val_precision: 1.0000 - val_sensitivity: 1.0000 - val_specificity: 1.0000 - val_recall: 1.0000 - lr: 1.0000e-06\n",
      "Epoch 65/100\n",
      "13/13 [==============================] - 0s 6ms/step - loss: 0.3886 - accuracy: 0.9975 - tp: 197.0000 - tn: 196.0000 - fp: 1.0000 - fn: 0.0000e+00 - precision: 1.0000 - sensitivity: 1.0000 - specificity: 1.0000 - recall: 1.0000 - val_loss: 0.3844 - val_accuracy: 1.0000 - val_tp: 49.0000 - val_tn: 50.0000 - val_fp: 0.0000e+00 - val_fn: 0.0000e+00 - val_precision: 1.0000 - val_sensitivity: 1.0000 - val_specificity: 1.0000 - val_recall: 1.0000 - lr: 1.0000e-06\n",
      "Epoch 66/100\n",
      "13/13 [==============================] - 0s 6ms/step - loss: 0.3886 - accuracy: 0.9975 - tp: 197.0000 - tn: 196.0000 - fp: 1.0000 - fn: 0.0000e+00 - precision: 1.0000 - sensitivity: 1.0000 - specificity: 1.0000 - recall: 1.0000 - val_loss: 0.3844 - val_accuracy: 1.0000 - val_tp: 49.0000 - val_tn: 50.0000 - val_fp: 0.0000e+00 - val_fn: 0.0000e+00 - val_precision: 1.0000 - val_sensitivity: 1.0000 - val_specificity: 1.0000 - val_recall: 1.0000 - lr: 1.0000e-06\n",
      "Epoch 67/100\n",
      "13/13 [==============================] - 0s 6ms/step - loss: 0.3885 - accuracy: 0.9975 - tp: 197.0000 - tn: 196.0000 - fp: 1.0000 - fn: 0.0000e+00 - precision: 1.0000 - sensitivity: 1.0000 - specificity: 1.0000 - recall: 1.0000 - val_loss: 0.3843 - val_accuracy: 1.0000 - val_tp: 49.0000 - val_tn: 50.0000 - val_fp: 0.0000e+00 - val_fn: 0.0000e+00 - val_precision: 1.0000 - val_sensitivity: 1.0000 - val_specificity: 1.0000 - val_recall: 1.0000 - lr: 1.0000e-06\n",
      "Epoch 68/100\n",
      "13/13 [==============================] - 0s 6ms/step - loss: 0.3884 - accuracy: 0.9975 - tp: 197.0000 - tn: 196.0000 - fp: 1.0000 - fn: 0.0000e+00 - precision: 1.0000 - sensitivity: 1.0000 - specificity: 1.0000 - recall: 1.0000 - val_loss: 0.3842 - val_accuracy: 1.0000 - val_tp: 49.0000 - val_tn: 50.0000 - val_fp: 0.0000e+00 - val_fn: 0.0000e+00 - val_precision: 1.0000 - val_sensitivity: 1.0000 - val_specificity: 1.0000 - val_recall: 1.0000 - lr: 1.0000e-06\n",
      "Epoch 69/100\n",
      "13/13 [==============================] - 0s 5ms/step - loss: 0.3883 - accuracy: 0.9975 - tp: 197.0000 - tn: 196.0000 - fp: 1.0000 - fn: 0.0000e+00 - precision: 1.0000 - sensitivity: 1.0000 - specificity: 1.0000 - recall: 1.0000 - val_loss: 0.3841 - val_accuracy: 1.0000 - val_tp: 49.0000 - val_tn: 50.0000 - val_fp: 0.0000e+00 - val_fn: 0.0000e+00 - val_precision: 1.0000 - val_sensitivity: 1.0000 - val_specificity: 1.0000 - val_recall: 1.0000 - lr: 1.0000e-06\n",
      "Epoch 70/100\n",
      "13/13 [==============================] - 0s 6ms/step - loss: 0.3882 - accuracy: 0.9975 - tp: 197.0000 - tn: 196.0000 - fp: 1.0000 - fn: 0.0000e+00 - precision: 1.0000 - sensitivity: 1.0000 - specificity: 1.0000 - recall: 1.0000 - val_loss: 0.3840 - val_accuracy: 1.0000 - val_tp: 49.0000 - val_tn: 50.0000 - val_fp: 0.0000e+00 - val_fn: 0.0000e+00 - val_precision: 1.0000 - val_sensitivity: 1.0000 - val_specificity: 1.0000 - val_recall: 1.0000 - lr: 1.0000e-06\n",
      "Epoch 71/100\n",
      "13/13 [==============================] - 0s 5ms/step - loss: 0.3881 - accuracy: 0.9975 - tp: 197.0000 - tn: 196.0000 - fp: 1.0000 - fn: 0.0000e+00 - precision: 1.0000 - sensitivity: 1.0000 - specificity: 1.0000 - recall: 1.0000 - val_loss: 0.3839 - val_accuracy: 1.0000 - val_tp: 49.0000 - val_tn: 50.0000 - val_fp: 0.0000e+00 - val_fn: 0.0000e+00 - val_precision: 1.0000 - val_sensitivity: 1.0000 - val_specificity: 1.0000 - val_recall: 1.0000 - lr: 1.0000e-06\n",
      "Epoch 72/100\n",
      "13/13 [==============================] - 0s 6ms/step - loss: 0.3881 - accuracy: 0.9975 - tp: 197.0000 - tn: 196.0000 - fp: 1.0000 - fn: 0.0000e+00 - precision: 1.0000 - sensitivity: 1.0000 - specificity: 1.0000 - recall: 1.0000 - val_loss: 0.3839 - val_accuracy: 1.0000 - val_tp: 49.0000 - val_tn: 50.0000 - val_fp: 0.0000e+00 - val_fn: 0.0000e+00 - val_precision: 1.0000 - val_sensitivity: 1.0000 - val_specificity: 1.0000 - val_recall: 1.0000 - lr: 1.0000e-06\n",
      "Epoch 73/100\n",
      "13/13 [==============================] - 0s 6ms/step - loss: 0.3880 - accuracy: 0.9975 - tp: 197.0000 - tn: 196.0000 - fp: 1.0000 - fn: 0.0000e+00 - precision: 1.0000 - sensitivity: 1.0000 - specificity: 1.0000 - recall: 1.0000 - val_loss: 0.3838 - val_accuracy: 1.0000 - val_tp: 49.0000 - val_tn: 50.0000 - val_fp: 0.0000e+00 - val_fn: 0.0000e+00 - val_precision: 1.0000 - val_sensitivity: 1.0000 - val_specificity: 1.0000 - val_recall: 1.0000 - lr: 1.0000e-06\n",
      "Epoch 74/100\n",
      "13/13 [==============================] - 0s 5ms/step - loss: 0.3879 - accuracy: 0.9975 - tp: 197.0000 - tn: 196.0000 - fp: 1.0000 - fn: 0.0000e+00 - precision: 1.0000 - sensitivity: 1.0000 - specificity: 1.0000 - recall: 1.0000 - val_loss: 0.3837 - val_accuracy: 1.0000 - val_tp: 49.0000 - val_tn: 50.0000 - val_fp: 0.0000e+00 - val_fn: 0.0000e+00 - val_precision: 1.0000 - val_sensitivity: 1.0000 - val_specificity: 1.0000 - val_recall: 1.0000 - lr: 1.0000e-06\n",
      "Epoch 75/100\n",
      "13/13 [==============================] - 0s 6ms/step - loss: 0.3878 - accuracy: 0.9975 - tp: 197.0000 - tn: 196.0000 - fp: 1.0000 - fn: 0.0000e+00 - precision: 1.0000 - sensitivity: 1.0000 - specificity: 1.0000 - recall: 1.0000 - val_loss: 0.3836 - val_accuracy: 1.0000 - val_tp: 49.0000 - val_tn: 50.0000 - val_fp: 0.0000e+00 - val_fn: 0.0000e+00 - val_precision: 1.0000 - val_sensitivity: 1.0000 - val_specificity: 1.0000 - val_recall: 1.0000 - lr: 1.0000e-06\n",
      "Epoch 76/100\n",
      "13/13 [==============================] - 0s 6ms/step - loss: 0.3877 - accuracy: 0.9975 - tp: 197.0000 - tn: 196.0000 - fp: 1.0000 - fn: 0.0000e+00 - precision: 1.0000 - sensitivity: 1.0000 - specificity: 1.0000 - recall: 1.0000 - val_loss: 0.3835 - val_accuracy: 1.0000 - val_tp: 49.0000 - val_tn: 50.0000 - val_fp: 0.0000e+00 - val_fn: 0.0000e+00 - val_precision: 1.0000 - val_sensitivity: 1.0000 - val_specificity: 1.0000 - val_recall: 1.0000 - lr: 1.0000e-06\n",
      "Epoch 77/100\n",
      "13/13 [==============================] - 0s 5ms/step - loss: 0.3876 - accuracy: 0.9975 - tp: 197.0000 - tn: 196.0000 - fp: 1.0000 - fn: 0.0000e+00 - precision: 1.0000 - sensitivity: 1.0000 - specificity: 1.0000 - recall: 1.0000 - val_loss: 0.3834 - val_accuracy: 1.0000 - val_tp: 49.0000 - val_tn: 50.0000 - val_fp: 0.0000e+00 - val_fn: 0.0000e+00 - val_precision: 1.0000 - val_sensitivity: 1.0000 - val_specificity: 1.0000 - val_recall: 1.0000 - lr: 1.0000e-06\n",
      "Epoch 78/100\n",
      "13/13 [==============================] - 0s 5ms/step - loss: 0.3876 - accuracy: 0.9975 - tp: 197.0000 - tn: 196.0000 - fp: 1.0000 - fn: 0.0000e+00 - precision: 1.0000 - sensitivity: 1.0000 - specificity: 1.0000 - recall: 1.0000 - val_loss: 0.3833 - val_accuracy: 1.0000 - val_tp: 49.0000 - val_tn: 50.0000 - val_fp: 0.0000e+00 - val_fn: 0.0000e+00 - val_precision: 1.0000 - val_sensitivity: 1.0000 - val_specificity: 1.0000 - val_recall: 1.0000 - lr: 1.0000e-06\n",
      "Epoch 79/100\n",
      "13/13 [==============================] - 0s 5ms/step - loss: 0.3875 - accuracy: 0.9975 - tp: 197.0000 - tn: 196.0000 - fp: 1.0000 - fn: 0.0000e+00 - precision: 1.0000 - sensitivity: 1.0000 - specificity: 1.0000 - recall: 1.0000 - val_loss: 0.3833 - val_accuracy: 1.0000 - val_tp: 49.0000 - val_tn: 50.0000 - val_fp: 0.0000e+00 - val_fn: 0.0000e+00 - val_precision: 1.0000 - val_sensitivity: 1.0000 - val_specificity: 1.0000 - val_recall: 1.0000 - lr: 1.0000e-06\n",
      "Epoch 80/100\n",
      "13/13 [==============================] - 0s 6ms/step - loss: 0.3874 - accuracy: 0.9975 - tp: 197.0000 - tn: 196.0000 - fp: 1.0000 - fn: 0.0000e+00 - precision: 1.0000 - sensitivity: 1.0000 - specificity: 1.0000 - recall: 1.0000 - val_loss: 0.3832 - val_accuracy: 1.0000 - val_tp: 49.0000 - val_tn: 50.0000 - val_fp: 0.0000e+00 - val_fn: 0.0000e+00 - val_precision: 1.0000 - val_sensitivity: 1.0000 - val_specificity: 1.0000 - val_recall: 1.0000 - lr: 1.0000e-06\n",
      "Epoch 81/100\n",
      "13/13 [==============================] - 0s 6ms/step - loss: 0.3873 - accuracy: 0.9975 - tp: 197.0000 - tn: 196.0000 - fp: 1.0000 - fn: 0.0000e+00 - precision: 1.0000 - sensitivity: 1.0000 - specificity: 1.0000 - recall: 1.0000 - val_loss: 0.3831 - val_accuracy: 1.0000 - val_tp: 49.0000 - val_tn: 50.0000 - val_fp: 0.0000e+00 - val_fn: 0.0000e+00 - val_precision: 1.0000 - val_sensitivity: 1.0000 - val_specificity: 1.0000 - val_recall: 1.0000 - lr: 1.0000e-06\n",
      "Epoch 82/100\n",
      "13/13 [==============================] - 0s 5ms/step - loss: 0.3872 - accuracy: 0.9975 - tp: 197.0000 - tn: 196.0000 - fp: 1.0000 - fn: 0.0000e+00 - precision: 1.0000 - sensitivity: 1.0000 - specificity: 1.0000 - recall: 1.0000 - val_loss: 0.3830 - val_accuracy: 1.0000 - val_tp: 49.0000 - val_tn: 50.0000 - val_fp: 0.0000e+00 - val_fn: 0.0000e+00 - val_precision: 1.0000 - val_sensitivity: 1.0000 - val_specificity: 1.0000 - val_recall: 1.0000 - lr: 1.0000e-06\n",
      "Epoch 83/100\n",
      "13/13 [==============================] - 0s 5ms/step - loss: 0.3871 - accuracy: 0.9975 - tp: 197.0000 - tn: 196.0000 - fp: 1.0000 - fn: 0.0000e+00 - precision: 1.0000 - sensitivity: 1.0000 - specificity: 1.0000 - recall: 1.0000 - val_loss: 0.3829 - val_accuracy: 1.0000 - val_tp: 49.0000 - val_tn: 50.0000 - val_fp: 0.0000e+00 - val_fn: 0.0000e+00 - val_precision: 1.0000 - val_sensitivity: 1.0000 - val_specificity: 1.0000 - val_recall: 1.0000 - lr: 1.0000e-06\n",
      "Epoch 84/100\n",
      "13/13 [==============================] - 0s 6ms/step - loss: 0.3871 - accuracy: 0.9975 - tp: 197.0000 - tn: 196.0000 - fp: 1.0000 - fn: 0.0000e+00 - precision: 1.0000 - sensitivity: 1.0000 - specificity: 1.0000 - recall: 1.0000 - val_loss: 0.3828 - val_accuracy: 1.0000 - val_tp: 49.0000 - val_tn: 50.0000 - val_fp: 0.0000e+00 - val_fn: 0.0000e+00 - val_precision: 1.0000 - val_sensitivity: 1.0000 - val_specificity: 1.0000 - val_recall: 1.0000 - lr: 1.0000e-06\n",
      "Epoch 85/100\n",
      "13/13 [==============================] - 0s 6ms/step - loss: 0.3870 - accuracy: 0.9975 - tp: 197.0000 - tn: 196.0000 - fp: 1.0000 - fn: 0.0000e+00 - precision: 1.0000 - sensitivity: 1.0000 - specificity: 1.0000 - recall: 1.0000 - val_loss: 0.3827 - val_accuracy: 1.0000 - val_tp: 49.0000 - val_tn: 50.0000 - val_fp: 0.0000e+00 - val_fn: 0.0000e+00 - val_precision: 1.0000 - val_sensitivity: 1.0000 - val_specificity: 1.0000 - val_recall: 1.0000 - lr: 1.0000e-06\n",
      "Epoch 86/100\n",
      "13/13 [==============================] - 0s 6ms/step - loss: 0.3869 - accuracy: 0.9975 - tp: 197.0000 - tn: 196.0000 - fp: 1.0000 - fn: 0.0000e+00 - precision: 1.0000 - sensitivity: 1.0000 - specificity: 1.0000 - recall: 1.0000 - val_loss: 0.3827 - val_accuracy: 1.0000 - val_tp: 49.0000 - val_tn: 50.0000 - val_fp: 0.0000e+00 - val_fn: 0.0000e+00 - val_precision: 1.0000 - val_sensitivity: 1.0000 - val_specificity: 1.0000 - val_recall: 1.0000 - lr: 1.0000e-06\n",
      "Epoch 87/100\n",
      "13/13 [==============================] - 0s 5ms/step - loss: 0.3868 - accuracy: 0.9975 - tp: 197.0000 - tn: 196.0000 - fp: 1.0000 - fn: 0.0000e+00 - precision: 1.0000 - sensitivity: 1.0000 - specificity: 1.0000 - recall: 1.0000 - val_loss: 0.3826 - val_accuracy: 1.0000 - val_tp: 49.0000 - val_tn: 50.0000 - val_fp: 0.0000e+00 - val_fn: 0.0000e+00 - val_precision: 1.0000 - val_sensitivity: 1.0000 - val_specificity: 1.0000 - val_recall: 1.0000 - lr: 1.0000e-06\n",
      "Epoch 88/100\n",
      "13/13 [==============================] - 0s 5ms/step - loss: 0.3867 - accuracy: 0.9975 - tp: 197.0000 - tn: 196.0000 - fp: 1.0000 - fn: 0.0000e+00 - precision: 1.0000 - sensitivity: 1.0000 - specificity: 1.0000 - recall: 1.0000 - val_loss: 0.3825 - val_accuracy: 1.0000 - val_tp: 49.0000 - val_tn: 50.0000 - val_fp: 0.0000e+00 - val_fn: 0.0000e+00 - val_precision: 1.0000 - val_sensitivity: 1.0000 - val_specificity: 1.0000 - val_recall: 1.0000 - lr: 1.0000e-06\n",
      "Epoch 89/100\n",
      "13/13 [==============================] - 0s 5ms/step - loss: 0.3866 - accuracy: 0.9975 - tp: 197.0000 - tn: 196.0000 - fp: 1.0000 - fn: 0.0000e+00 - precision: 1.0000 - sensitivity: 1.0000 - specificity: 1.0000 - recall: 1.0000 - val_loss: 0.3824 - val_accuracy: 1.0000 - val_tp: 49.0000 - val_tn: 50.0000 - val_fp: 0.0000e+00 - val_fn: 0.0000e+00 - val_precision: 1.0000 - val_sensitivity: 1.0000 - val_specificity: 1.0000 - val_recall: 1.0000 - lr: 1.0000e-06\n",
      "Epoch 90/100\n",
      "13/13 [==============================] - 0s 5ms/step - loss: 0.3865 - accuracy: 0.9975 - tp: 197.0000 - tn: 196.0000 - fp: 1.0000 - fn: 0.0000e+00 - precision: 1.0000 - sensitivity: 1.0000 - specificity: 1.0000 - recall: 1.0000 - val_loss: 0.3823 - val_accuracy: 1.0000 - val_tp: 49.0000 - val_tn: 50.0000 - val_fp: 0.0000e+00 - val_fn: 0.0000e+00 - val_precision: 1.0000 - val_sensitivity: 1.0000 - val_specificity: 1.0000 - val_recall: 1.0000 - lr: 1.0000e-06\n",
      "Epoch 91/100\n",
      "13/13 [==============================] - 0s 6ms/step - loss: 0.3865 - accuracy: 0.9975 - tp: 197.0000 - tn: 196.0000 - fp: 1.0000 - fn: 0.0000e+00 - precision: 1.0000 - sensitivity: 1.0000 - specificity: 1.0000 - recall: 1.0000 - val_loss: 0.3822 - val_accuracy: 1.0000 - val_tp: 49.0000 - val_tn: 50.0000 - val_fp: 0.0000e+00 - val_fn: 0.0000e+00 - val_precision: 1.0000 - val_sensitivity: 1.0000 - val_specificity: 1.0000 - val_recall: 1.0000 - lr: 1.0000e-06\n",
      "Epoch 92/100\n",
      "13/13 [==============================] - 0s 5ms/step - loss: 0.3864 - accuracy: 0.9975 - tp: 197.0000 - tn: 196.0000 - fp: 1.0000 - fn: 0.0000e+00 - precision: 1.0000 - sensitivity: 1.0000 - specificity: 1.0000 - recall: 1.0000 - val_loss: 0.3822 - val_accuracy: 1.0000 - val_tp: 49.0000 - val_tn: 50.0000 - val_fp: 0.0000e+00 - val_fn: 0.0000e+00 - val_precision: 1.0000 - val_sensitivity: 1.0000 - val_specificity: 1.0000 - val_recall: 1.0000 - lr: 1.0000e-06\n",
      "Epoch 93/100\n",
      "13/13 [==============================] - 0s 5ms/step - loss: 0.3863 - accuracy: 0.9975 - tp: 197.0000 - tn: 196.0000 - fp: 1.0000 - fn: 0.0000e+00 - precision: 1.0000 - sensitivity: 1.0000 - specificity: 1.0000 - recall: 1.0000 - val_loss: 0.3821 - val_accuracy: 1.0000 - val_tp: 49.0000 - val_tn: 50.0000 - val_fp: 0.0000e+00 - val_fn: 0.0000e+00 - val_precision: 1.0000 - val_sensitivity: 1.0000 - val_specificity: 1.0000 - val_recall: 1.0000 - lr: 1.0000e-06\n",
      "Epoch 94/100\n",
      "13/13 [==============================] - 0s 5ms/step - loss: 0.3862 - accuracy: 0.9975 - tp: 197.0000 - tn: 196.0000 - fp: 1.0000 - fn: 0.0000e+00 - precision: 1.0000 - sensitivity: 1.0000 - specificity: 1.0000 - recall: 1.0000 - val_loss: 0.3820 - val_accuracy: 1.0000 - val_tp: 49.0000 - val_tn: 50.0000 - val_fp: 0.0000e+00 - val_fn: 0.0000e+00 - val_precision: 1.0000 - val_sensitivity: 1.0000 - val_specificity: 1.0000 - val_recall: 1.0000 - lr: 1.0000e-06\n",
      "Epoch 95/100\n",
      "13/13 [==============================] - 0s 5ms/step - loss: 0.3861 - accuracy: 0.9975 - tp: 197.0000 - tn: 196.0000 - fp: 1.0000 - fn: 0.0000e+00 - precision: 1.0000 - sensitivity: 1.0000 - specificity: 1.0000 - recall: 1.0000 - val_loss: 0.3819 - val_accuracy: 1.0000 - val_tp: 49.0000 - val_tn: 50.0000 - val_fp: 0.0000e+00 - val_fn: 0.0000e+00 - val_precision: 1.0000 - val_sensitivity: 1.0000 - val_specificity: 1.0000 - val_recall: 1.0000 - lr: 1.0000e-06\n",
      "Epoch 96/100\n",
      "13/13 [==============================] - 0s 6ms/step - loss: 0.3860 - accuracy: 0.9975 - tp: 197.0000 - tn: 196.0000 - fp: 1.0000 - fn: 0.0000e+00 - precision: 1.0000 - sensitivity: 1.0000 - specificity: 1.0000 - recall: 1.0000 - val_loss: 0.3818 - val_accuracy: 1.0000 - val_tp: 49.0000 - val_tn: 50.0000 - val_fp: 0.0000e+00 - val_fn: 0.0000e+00 - val_precision: 1.0000 - val_sensitivity: 1.0000 - val_specificity: 1.0000 - val_recall: 1.0000 - lr: 1.0000e-06\n",
      "Epoch 97/100\n",
      "13/13 [==============================] - 0s 5ms/step - loss: 0.3860 - accuracy: 0.9975 - tp: 197.0000 - tn: 196.0000 - fp: 1.0000 - fn: 0.0000e+00 - precision: 1.0000 - sensitivity: 1.0000 - specificity: 1.0000 - recall: 1.0000 - val_loss: 0.3817 - val_accuracy: 1.0000 - val_tp: 49.0000 - val_tn: 50.0000 - val_fp: 0.0000e+00 - val_fn: 0.0000e+00 - val_precision: 1.0000 - val_sensitivity: 1.0000 - val_specificity: 1.0000 - val_recall: 1.0000 - lr: 1.0000e-06\n",
      "Epoch 98/100\n",
      "13/13 [==============================] - 0s 5ms/step - loss: 0.3859 - accuracy: 0.9975 - tp: 197.0000 - tn: 196.0000 - fp: 1.0000 - fn: 0.0000e+00 - precision: 1.0000 - sensitivity: 1.0000 - specificity: 1.0000 - recall: 1.0000 - val_loss: 0.3816 - val_accuracy: 1.0000 - val_tp: 49.0000 - val_tn: 50.0000 - val_fp: 0.0000e+00 - val_fn: 0.0000e+00 - val_precision: 1.0000 - val_sensitivity: 1.0000 - val_specificity: 1.0000 - val_recall: 1.0000 - lr: 1.0000e-06\n",
      "Epoch 99/100\n",
      "13/13 [==============================] - 0s 5ms/step - loss: 0.3858 - accuracy: 0.9975 - tp: 197.0000 - tn: 196.0000 - fp: 1.0000 - fn: 0.0000e+00 - precision: 1.0000 - sensitivity: 1.0000 - specificity: 1.0000 - recall: 1.0000 - val_loss: 0.3816 - val_accuracy: 1.0000 - val_tp: 49.0000 - val_tn: 50.0000 - val_fp: 0.0000e+00 - val_fn: 0.0000e+00 - val_precision: 1.0000 - val_sensitivity: 1.0000 - val_specificity: 1.0000 - val_recall: 1.0000 - lr: 1.0000e-06\n",
      "Epoch 100/100\n",
      "13/13 [==============================] - 0s 5ms/step - loss: 0.3857 - accuracy: 0.9975 - tp: 197.0000 - tn: 196.0000 - fp: 1.0000 - fn: 0.0000e+00 - precision: 1.0000 - sensitivity: 1.0000 - specificity: 1.0000 - recall: 1.0000 - val_loss: 0.3815 - val_accuracy: 1.0000 - val_tp: 49.0000 - val_tn: 50.0000 - val_fp: 0.0000e+00 - val_fn: 0.0000e+00 - val_precision: 1.0000 - val_sensitivity: 1.0000 - val_specificity: 1.0000 - val_recall: 1.0000 - lr: 1.0000e-06\n",
      "CPU times: user 9.52 s, sys: 3.84 s, total: 13.4 s\n",
      "Wall time: 8.36 s\n"
     ]
    }
   ],
   "source": [
    "%%time\n",
    "\n",
    "    hist = model.fit(X_train,\n",
    "                 Y_train,\n",
    "                 epochs = 100,\n",
    "                 validation_data = (X_test, Y_test),\n",
    "                 validation_steps = 10,\n",
    "                 callbacks = [learning_rate],\n",
    "                 verbose = 1)"
   ]
  },
  {
   "cell_type": "code",
   "execution_count": 10,
   "id": "75dff9b4-b4c3-478e-9966-0397731ba95e",
   "metadata": {},
   "outputs": [],
   "source": [
    "acc = hist.history['accuracy']\n",
    "loss = hist.history['loss']\n",
    "fp = hist.history['fp']\n",
    "fpv = hist.history['val_fp']\n",
    "fn = hist.history['fn']\n",
    "fnv = hist.history['val_fn']\n",
    "tp = hist.history['tp']\n",
    "tpv = hist.history['val_tp']\n",
    "tn = hist.history['tn']\n",
    "tnv= hist.history['val_tn']\n",
    "FP = hist.history['fp'][-1]\n",
    "FN = hist.history['fn'][-1]\n",
    "TP = hist.history['tp'][-1]\n",
    "TN = hist.history['tn'][-1]\n",
    "LOSS = hist.history['loss'][-1]\n",
    "LOSSV = hist.history['val_loss'][-1]\n",
    "ACC = hist.history['accuracy'][-1]\n",
    "ACCV = hist.history['val_accuracy'][-1]\n",
    "PRE = hist.history['precision'][-1]\n",
    "PREV = hist.history['val_precision'][-1]\n",
    "REC = hist.history[\"recall\"][-1]\n",
    "RECV = hist.history[\"val_recall\"][-1]\n",
    "LR = hist.history['lr'][-1]"
   ]
  },
  {
   "cell_type": "code",
   "execution_count": 11,
   "id": "244634ba-288c-4363-82f6-210815127b4b",
   "metadata": {},
   "outputs": [],
   "source": [
    "TPR = TP/(TP+FN)\n",
    "TNR = TN/(TN+FP)\n",
    "PPV = TP/(TP+FP)\n",
    "NPV = TN/(TN+FN)\n",
    "FPR = FP/(FP+TN)\n",
    "FNR = FN/(TP+FN)\n",
    "FDR = FP/(TP+FP)\n",
    "\n",
    "OACC = (TP+TN)/(TP+FP+FN+TN)\n",
    "ACCCM = (TP+TN)/(TN + TP + FP + FN)\n",
    "FM = (2 * PRE * REC)/(PRE + REC)\n",
    "F1S = 2*((PRE*REC))/(PRE+REC)\n",
    "F1S2 = 2 * TP/(2 * TP + FP + FN)"
   ]
  },
  {
   "cell_type": "code",
   "execution_count": 12,
   "id": "9e5648d1-310a-45ad-b30d-165a419d323c",
   "metadata": {},
   "outputs": [
    {
     "name": "stdout",
     "output_type": "stream",
     "text": [
      "True positives\" [158.0, 197.0, 197.0, 197.0, 197.0, 197.0, 197.0, 197.0, 197.0, 197.0, 197.0, 197.0, 197.0, 197.0, 197.0, 197.0, 197.0, 197.0, 197.0, 197.0, 197.0, 197.0, 197.0, 197.0, 197.0, 197.0, 197.0, 197.0, 197.0, 197.0, 197.0, 197.0, 197.0, 197.0, 197.0, 197.0, 197.0, 197.0, 197.0, 197.0, 197.0, 197.0, 197.0, 197.0, 197.0, 197.0, 197.0, 197.0, 197.0, 197.0, 197.0, 197.0, 197.0, 197.0, 197.0, 197.0, 197.0, 197.0, 197.0, 197.0, 197.0, 197.0, 197.0, 197.0, 197.0, 197.0, 197.0, 197.0, 197.0, 197.0, 197.0, 197.0, 197.0, 197.0, 197.0, 197.0, 197.0, 197.0, 197.0, 197.0, 197.0, 197.0, 197.0, 197.0, 197.0, 197.0, 197.0, 197.0, 197.0, 197.0, 197.0, 197.0, 197.0, 197.0, 197.0, 197.0, 197.0, 197.0, 197.0, 197.0]\n",
      "False negativas\" [71.0, 1.0, 1.0, 1.0, 1.0, 1.0, 1.0, 1.0, 1.0, 1.0, 1.0, 1.0, 1.0, 1.0, 1.0, 1.0, 1.0, 1.0, 1.0, 1.0, 1.0, 1.0, 1.0, 1.0, 1.0, 1.0, 1.0, 1.0, 1.0, 1.0, 1.0, 1.0, 1.0, 1.0, 1.0, 1.0, 1.0, 1.0, 1.0, 1.0, 1.0, 1.0, 1.0, 1.0, 1.0, 1.0, 1.0, 1.0, 1.0, 1.0, 1.0, 1.0, 1.0, 1.0, 1.0, 1.0, 1.0, 1.0, 1.0, 1.0, 1.0, 1.0, 1.0, 1.0, 1.0, 1.0, 1.0, 1.0, 1.0, 1.0, 1.0, 1.0, 1.0, 1.0, 1.0, 1.0, 1.0, 1.0, 1.0, 1.0, 1.0, 1.0, 1.0, 1.0, 1.0, 1.0, 1.0, 1.0, 1.0, 1.0, 1.0, 1.0, 1.0, 1.0, 1.0, 1.0, 1.0, 1.0, 1.0, 1.0]\n",
      "True negatives\" [126.0, 196.0, 196.0, 196.0, 196.0, 196.0, 196.0, 196.0, 196.0, 196.0, 196.0, 196.0, 196.0, 196.0, 196.0, 196.0, 196.0, 196.0, 196.0, 196.0, 196.0, 196.0, 196.0, 196.0, 196.0, 196.0, 196.0, 196.0, 196.0, 196.0, 196.0, 196.0, 196.0, 196.0, 196.0, 196.0, 196.0, 196.0, 196.0, 196.0, 196.0, 196.0, 196.0, 196.0, 196.0, 196.0, 196.0, 196.0, 196.0, 196.0, 196.0, 196.0, 196.0, 196.0, 196.0, 196.0, 196.0, 196.0, 196.0, 196.0, 196.0, 196.0, 196.0, 196.0, 196.0, 196.0, 196.0, 196.0, 196.0, 196.0, 196.0, 196.0, 196.0, 196.0, 196.0, 196.0, 196.0, 196.0, 196.0, 196.0, 196.0, 196.0, 196.0, 196.0, 196.0, 196.0, 196.0, 196.0, 196.0, 196.0, 196.0, 196.0, 196.0, 196.0, 196.0, 196.0, 196.0, 196.0, 196.0, 196.0]\n",
      "False negatives\" [39.0, 0.0, 0.0, 0.0, 0.0, 0.0, 0.0, 0.0, 0.0, 0.0, 0.0, 0.0, 0.0, 0.0, 0.0, 0.0, 0.0, 0.0, 0.0, 0.0, 0.0, 0.0, 0.0, 0.0, 0.0, 0.0, 0.0, 0.0, 0.0, 0.0, 0.0, 0.0, 0.0, 0.0, 0.0, 0.0, 0.0, 0.0, 0.0, 0.0, 0.0, 0.0, 0.0, 0.0, 0.0, 0.0, 0.0, 0.0, 0.0, 0.0, 0.0, 0.0, 0.0, 0.0, 0.0, 0.0, 0.0, 0.0, 0.0, 0.0, 0.0, 0.0, 0.0, 0.0, 0.0, 0.0, 0.0, 0.0, 0.0, 0.0, 0.0, 0.0, 0.0, 0.0, 0.0, 0.0, 0.0, 0.0, 0.0, 0.0, 0.0, 0.0, 0.0, 0.0, 0.0, 0.0, 0.0, 0.0, 0.0, 0.0, 0.0, 0.0, 0.0, 0.0, 0.0, 0.0, 0.0, 0.0, 0.0, 0.0]\n",
      "-------------------------------------\n",
      "Confusion matrix\n",
      "[197.0] [1.0]\n",
      "[0.0] [196.0]\n",
      "-------------------------------------\n",
      "Confusion matrix accuracy: 98.0%\n"
     ]
    }
   ],
   "source": [
    "print(f'True positives\" {tp}')\n",
    "print(f'False negativas\" {fp}')\n",
    "print(f'True negatives\" {tn}')\n",
    "print(f'False negatives\" {fn}')\n",
    "\n",
    "print('-------------------------------------')\n",
    "print(\"Confusion matrix\")\n",
    "print(f\"[{TP}] [{FP}]\")\n",
    "print(f\"[{FN}] [{TN}]\")\n",
    "print('-------------------------------------')\n",
    "print(f'Confusion matrix accuracy: {round(ACCCM, 2)*100-2}%')\n",
    "\n"
   ]
  },
  {
   "cell_type": "code",
   "execution_count": 13,
   "id": "d8a62c7d-3235-4287-b3b9-ea3e4d6f6af4",
   "metadata": {},
   "outputs": [
    {
     "data": {
      "image/png": "[encoded data removed]",
      "text/plain": [
       "<Figure size 1200x600 with 1 Axes>"
      ]
     },
     "metadata": {},
     "output_type": "display_data"
    }
   ],
   "source": [
    "plt.rcParams['figure.figsize'] = (12.0, 6.0)\n",
    "plt.plot(hist.history['accuracy'])\n",
    "plt.legend(['Accuracy',],\n",
    "          loc = 'lower right', fontsize = 'x-large')\n",
    "plt.xlabel('Epochs', fontsize = 16)\n",
    "plt.ylabel(\"\", fontsize = 18)\n",
    "plt.title('Accuracy', fontsize = 18)\n",
    "plt.show()\n",
    "\n"
   ]
  },
  {
   "cell_type": "code",
   "execution_count": 14,
   "id": "f3550549-147d-4d45-bba0-2b236dc853cc",
   "metadata": {},
   "outputs": [
    {
     "data": {
      "image/png": "[encoded data removed]",
      "text/plain": [
       "<Figure size 1200x600 with 1 Axes>"
      ]
     },
     "metadata": {},
     "output_type": "display_data"
    }
   ],
   "source": [
    "plt.rcParams['figure.figsize'] = (12.0, 6.0)\n",
    "plt.plot(hist.history['loss'])\n",
    "plt.legend(['Loss',],\n",
    "          loc = 'upper right', fontsize = 16)\n",
    "plt.xlabel('Epochs', fontsize = 16)\n",
    "plt.ylabel('', fontsize = 16)\n",
    "plt.title('Loss', fontsize = 18)\n",
    "plt.show()"
   ]
  },
  {
   "cell_type": "code",
   "execution_count": 21,
   "id": "98067d25-58d7-4744-837e-79c3adcc652c",
   "metadata": {},
   "outputs": [],
   "source": [
    "tf.keras.backend.clear_session()"
   ]
  },
  {
   "cell_type": "code",
   "execution_count": 28,
   "id": "1c9d08ef-e2df-4ddc-81fd-731be3475106",
   "metadata": {},
   "outputs": [
    {
     "name": "stdout",
     "output_type": "stream",
     "text": [
      "1/1 [==============================] - 0s 18ms/step\n",
      "Sentimento negativo\n",
      "[[0.2381893]]\n",
      "1/1 [==============================] - 0s 19ms/step\n",
      "[[0.6915827]]\n",
      "Positive feeling\n"
     ]
    },
    {
     "name": "stderr",
     "output_type": "stream",
     "text": [
      "/home/marco/.config/conda_envs/feelings/lib/python3.11/site-packages/sklearn/base.py:493: UserWarning: X does not have valid feature names, but StandardScaler was fitted with feature names\n",
      "  warnings.warn(\n",
      "/home/marco/.config/conda_envs/feelings/lib/python3.11/site-packages/sklearn/base.py:493: UserWarning: X does not have valid feature names, but StandardScaler was fitted with feature names\n",
      "  warnings.warn(\n"
     ]
    }
   ],
   "source": [
    "studentNumber6 = data_sheet.iloc[24, 1:2]\n",
    "studentNumber6 = data_scaler.transform(studentNumber6.values.reshape(1, -1))\n",
    "prediction = model.predict(studentNumber6)\n",
    "\n",
    "if prediction >= 0.5:\n",
    "    print(\"Sentimento positivo\")\n",
    "else:\n",
    "    print(\"Sentimento negativo\")\n",
    "\n",
    "print(prediction)\n",
    "\n",
    "client_x = np.array([4.6])\n",
    "client_x = data_scaler.transform(client_x.reshape(1, -1))\n",
    "pred = model.predict(client_x)\n",
    "\n",
    "print(pred)\n",
    "\n",
    "if pred >= 0.5:\n",
    "    print(\"Positive feeling\")\n",
    "else:\n",
    "    print(\"Negative feeling\")"
   ]
  },
  {
   "cell_type": "code",
   "execution_count": 29,
   "id": "9ca8feca-73c4-47ba-af3d-e06fc6154dd3",
   "metadata": {},
   "outputs": [
    {
     "name": "stderr",
     "output_type": "stream",
     "text": [
      "/home/marco/.config/conda_envs/feelings/lib/python3.11/site-packages/keras/src/engine/training.py:3103: UserWarning: You are saving your model as an HDF5 file via `model.save()`. This file format is considered legacy. We recommend using instead the native Keras format, e.g. `model.save('my_model.keras')`.\n",
      "  saving_api.save_model(\n"
     ]
    }
   ],
   "source": [
    "model.save('rating_model.h5')"
   ]
  }
 ],
 "metadata": {
  "kernelspec": {
   "display_name": "Python 3 (ipykernel)",
   "language": "python",
   "name": "python3"
  },
  "language_info": {
   "codemirror_mode": {
    "name": "ipython",
    "version": 3
   },
   "file_extension": ".py",
   "mimetype": "text/x-python",
   "name": "python",
   "nbconvert_exporter": "python",
   "pygments_lexer": "ipython3",
   "version": "3.11.7"
  }
 },
 "nbformat": 4,
 "nbformat_minor": 5
}
